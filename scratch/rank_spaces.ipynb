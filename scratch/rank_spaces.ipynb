{
 "cells": [
  {
   "cell_type": "code",
   "execution_count": 1,
   "id": "a1d86591",
   "metadata": {},
   "outputs": [],
   "source": [
    "import pandas as pd\n",
    "import numpy as np\n",
    "import random\n",
    "from itertools import product"
   ]
  },
  {
   "cell_type": "code",
   "execution_count": 2,
   "id": "90b48728",
   "metadata": {},
   "outputs": [],
   "source": [
    "r1=pd.DataFrame(zip(['CSCC(N)Cc1cccs1',\n",
    " 'NCc1cccc(C(F)(F)F)c1F',\n",
    " 'CN(C)S(=O)(=O)C1(CN)CC1',\n",
    " 'Nc1cc2cccnc2c(Br)n1',\n",
    " 'CC(C)(C)CNCCC#N']),columns=['smiles'])"
   ]
  },
  {
   "cell_type": "code",
   "execution_count": 3,
   "id": "de332c42",
   "metadata": {},
   "outputs": [],
   "source": [
    "r2=pd.DataFrame(zip(['O=C(O)C1CCC(OCC2CCC2)CC1',\n",
    " 'Cc1ccc(-c2nn(-c3ccccc3)cc2C(=O)O)cc1C',\n",
    " 'Cc1cc(Cl)c(C(=O)O)cc1[N+](=O)[O-]',\n",
    " 'CCCOc1nc(C(=O)O)cc2ccccc12',\n",
    " 'O=C(O)CCn1cnccc1=O']),columns=['smiles'])"
   ]
  },
  {
   "cell_type": "code",
   "execution_count": 4,
   "id": "0eacd043",
   "metadata": {},
   "outputs": [],
   "source": [
    "bb_spaces={'amines':r1,'acids':r2}"
   ]
  },
  {
   "cell_type": "code",
   "execution_count": 5,
   "id": "2581f7fb",
   "metadata": {},
   "outputs": [],
   "source": [
    "bb_spaces['amines']['score']=random.sample(range(1, 100), 5)\n",
    "bb_spaces['acids']['score']=random.sample(range(1, 100), 5)"
   ]
  },
  {
   "cell_type": "code",
   "execution_count": 6,
   "id": "fec82006",
   "metadata": {},
   "outputs": [],
   "source": [
    "bb_spaces['amines']=bb_spaces['amines'].sort_values(by=['score'],ascending=[False])\n",
    "bb_spaces['acids']=bb_spaces['acids'].sort_values(by=['score'],ascending=[False])"
   ]
  },
  {
   "cell_type": "code",
   "execution_count": 7,
   "id": "31c91cce",
   "metadata": {},
   "outputs": [],
   "source": [
    "# this does not do a grid search\n",
    "grid_size=3\n",
    "grid = list(product(*[ranked_bb_domain.iloc[:grid_size].index.tolist() for ranked_bb_domain in bb_spaces.values()]))\n"
   ]
  },
  {
   "cell_type": "code",
   "execution_count": 8,
   "id": "586ab549",
   "metadata": {},
   "outputs": [],
   "source": [
    "sum_acq_values = [sum(score) for score in product(*[ranked_bb_domain.iloc[:grid_size][\"score\"].tolist() for ranked_bb_domain in bb_spaces.values()])]\n",
    "            "
   ]
  },
  {
   "cell_type": "code",
   "execution_count": 9,
   "id": "f3313f82",
   "metadata": {},
   "outputs": [],
   "source": [
    "grid = pd.DataFrame(sum_acq_values, columns=[\"score\"], index=pd.MultiIndex.from_tuples(grid, names=list(bb_spaces.keys())))\n",
    "            "
   ]
  },
  {
   "cell_type": "code",
   "execution_count": 10,
   "id": "1cdb08ba",
   "metadata": {},
   "outputs": [],
   "source": [
    "todrop=pd.DataFrame(index=pd.MultiIndex.from_tuples([(0,0),(0,4)], names=list(bb_spaces.keys())))\n"
   ]
  },
  {
   "cell_type": "code",
   "execution_count": 11,
   "id": "fd5af0a1",
   "metadata": {},
   "outputs": [
    {
     "data": {
      "text/html": [
       "<div>\n",
       "<style scoped>\n",
       "    .dataframe tbody tr th:only-of-type {\n",
       "        vertical-align: middle;\n",
       "    }\n",
       "\n",
       "    .dataframe tbody tr th {\n",
       "        vertical-align: top;\n",
       "    }\n",
       "\n",
       "    .dataframe thead th {\n",
       "        text-align: right;\n",
       "    }\n",
       "</style>\n",
       "<table border=\"1\" class=\"dataframe\">\n",
       "  <thead>\n",
       "    <tr style=\"text-align: right;\">\n",
       "      <th></th>\n",
       "      <th></th>\n",
       "      <th>score</th>\n",
       "    </tr>\n",
       "    <tr>\n",
       "      <th>amines</th>\n",
       "      <th>acids</th>\n",
       "      <th></th>\n",
       "    </tr>\n",
       "  </thead>\n",
       "  <tbody>\n",
       "    <tr>\n",
       "      <th rowspan=\"3\" valign=\"top\">2</th>\n",
       "      <th>4</th>\n",
       "      <td>189</td>\n",
       "    </tr>\n",
       "    <tr>\n",
       "      <th>2</th>\n",
       "      <td>172</td>\n",
       "    </tr>\n",
       "    <tr>\n",
       "      <th>1</th>\n",
       "      <td>137</td>\n",
       "    </tr>\n",
       "    <tr>\n",
       "      <th rowspan=\"3\" valign=\"top\">3</th>\n",
       "      <th>4</th>\n",
       "      <td>173</td>\n",
       "    </tr>\n",
       "    <tr>\n",
       "      <th>2</th>\n",
       "      <td>156</td>\n",
       "    </tr>\n",
       "    <tr>\n",
       "      <th>1</th>\n",
       "      <td>121</td>\n",
       "    </tr>\n",
       "    <tr>\n",
       "      <th rowspan=\"3\" valign=\"top\">1</th>\n",
       "      <th>4</th>\n",
       "      <td>146</td>\n",
       "    </tr>\n",
       "    <tr>\n",
       "      <th>2</th>\n",
       "      <td>129</td>\n",
       "    </tr>\n",
       "    <tr>\n",
       "      <th>1</th>\n",
       "      <td>94</td>\n",
       "    </tr>\n",
       "  </tbody>\n",
       "</table>\n",
       "</div>"
      ],
      "text/plain": [
       "              score\n",
       "amines acids       \n",
       "2      4        189\n",
       "       2        172\n",
       "       1        137\n",
       "3      4        173\n",
       "       2        156\n",
       "       1        121\n",
       "1      4        146\n",
       "       2        129\n",
       "       1         94"
      ]
     },
     "execution_count": 11,
     "metadata": {},
     "output_type": "execute_result"
    }
   ],
   "source": [
    "grid[~grid.index.isin(todrop.index)]\n"
   ]
  },
  {
   "cell_type": "code",
   "execution_count": null,
   "id": "5fb35f0f",
   "metadata": {},
   "outputs": [],
   "source": []
  }
 ],
 "metadata": {
  "kernelspec": {
   "display_name": "PythonDS v1.4",
   "language": "python",
   "name": "py_v1.4"
  },
  "language_info": {
   "codemirror_mode": {
    "name": "ipython",
    "version": 3
   },
   "file_extension": ".py",
   "mimetype": "text/x-python",
   "name": "python",
   "nbconvert_exporter": "python",
   "pygments_lexer": "ipython3",
   "version": "3.10.13"
  }
 },
 "nbformat": 4,
 "nbformat_minor": 5
}
